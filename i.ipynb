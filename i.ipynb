{
 "cells": [
  {
   "cell_type": "code",
   "execution_count": 3,
   "metadata": {
    "collapsed": true
   },
   "outputs": [
    {
     "name": "stdout",
     "output_type": "stream",
     "text": [
      "-1 * 3^2 * 223\n",
      "2^2 * 5^2\n"
     ]
    }
   ],
   "source": [
    "\n",
    "\n",
    "from sage.all import *\n",
    "a =  factor(-2007)\n",
    "b = factor(100)\n",
    "\n",
    "print(a)\n",
    "print(b)"
   ]
  },
  {
   "cell_type": "code",
   "execution_count": 1,
   "outputs": [
    {
     "name": "stdout",
     "output_type": "stream",
     "text": [
      "..reducible polynom mod 100000000000000000039 :: X ^ 4 - 2 = (x + 47307024817598180300) * (x + 52692975182401819739) * (x^2 + 10836537005096534152) -> next prime...\n",
      "..reducible polynom mod 100000000000000000129 :: X ^ 4 - 2 = (x^2 + 42815718649009498851) * (x^2 + 57184281350990501278) -> next prime...\n",
      "..reducible polynom mod 100000000000000000151 :: X ^ 4 - 2 = (x + 10271815955525945266) * (x + 89728184044474054885) * (x^2 + 15467249916289755178) -> next prime...\n",
      "..reducible polynom mod 100000000000000000193 :: X ^ 4 - 2 = (x + 6822500915132347755) * (x + 44167870161383757330) * (x + 55832129838616242863) * (x + 93177499084867652438) -> next prime...\n",
      "..reducible polynom mod 100000000000000000207 :: X ^ 4 - 2 = (x + 38354482782634802697) * (x + 61645517217365197510) * (x^2 + 3402957058619378380) -> next prime...\n",
      "100000000000000000301 is OK\n"
     ]
    }
   ],
   "source": [
    "from sage.all import *\n",
    "for p in primes(10 ** 20, 10 ** 20 + 1000):\n",
    "    R = PolynomialRing( GF(p), names='x')\n",
    "    X = R.gens()[0]\n",
    "\n",
    "    if not (X ** 4 - 2).is_irreducible():\n",
    "        print(\"..reducible polynom mod %s :: X ^ 4 - 2 = %s -> next prime...\"\n",
    "              % (p, factor(X ** 4 - 2)))\n",
    "        continue\n",
    "\n",
    "    print(\"%s is OK\" % p)\n",
    "    break\n"
   ],
   "metadata": {
    "collapsed": false,
    "pycharm": {
     "name": "#%%\n"
    }
   }
  },
  {
   "cell_type": "code",
   "execution_count": null,
   "outputs": [],
   "source": [],
   "metadata": {
    "collapsed": false,
    "pycharm": {
     "name": "#%%\n"
    }
   }
  }
 ],
 "metadata": {
  "kernelspec": {
   "name": "python3",
   "language": "python",
   "display_name": "Python 3"
  },
  "language_info": {
   "codemirror_mode": {
    "name": "ipython",
    "version": 2
   },
   "file_extension": ".py",
   "mimetype": "text/x-python",
   "name": "python",
   "nbconvert_exporter": "python",
   "pygments_lexer": "ipython2",
   "version": "2.7.6"
  }
 },
 "nbformat": 4,
 "nbformat_minor": 0
}